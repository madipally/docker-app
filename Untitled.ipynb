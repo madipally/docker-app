{
 "cells": [
  {
   "cell_type": "code",
   "execution_count": 33,
   "id": "ba6ea9cf-2a0d-4248-a9ac-1ef1537842c2",
   "metadata": {
    "scrolled": true
   },
   "outputs": [
    {
     "name": "stdout",
     "output_type": "stream",
     "text": [
      "1, 3, 5, "
     ]
    }
   ],
   "source": [
    "for n in range(1, 6, 2):\n",
    "    print(n, end=', ')"
   ]
  },
  {
   "cell_type": "code",
   "execution_count": null,
   "id": "e8d5a6e6-aeb4-44ab-a81b-4a80dbcf9485",
   "metadata": {},
   "outputs": [],
   "source": []
  },
  {
   "cell_type": "code",
   "execution_count": null,
   "id": "9a4cf1b4-ca66-48d3-b50b-7c049901d096",
   "metadata": {},
   "outputs": [],
   "source": []
  }
 ],
 "metadata": {
  "kernelspec": {
   "display_name": "Python 3 (ipykernel)",
   "language": "python",
   "name": "python3"
  },
  "language_info": {
   "codemirror_mode": {
    "name": "ipython",
    "version": 3
   },
   "file_extension": ".py",
   "mimetype": "text/x-python",
   "name": "python",
   "nbconvert_exporter": "python",
   "pygments_lexer": "ipython3",
   "version": "3.12.2"
  }
 },
 "nbformat": 4,
 "nbformat_minor": 5
}
