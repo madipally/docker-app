{
 "cells": [
  {
   "cell_type": "code",
   "execution_count": 15,
   "id": "2ec9ba65-05ff-4df7-a1c4-3a29532e3310",
   "metadata": {},
   "outputs": [
    {
     "name": "stdout",
     "output_type": "stream",
     "text": [
      "110\n"
     ]
    }
   ],
   "source": [
    "numbers = list(range(1,21))\n",
    "total = 0\n",
    "for i in numbers:\n",
    "    if i % 2 == 0:\n",
    "        total += i\n",
    "print(total)\n",
    "   \n",
    "    \n",
    "\n",
    "      "
   ]
  },
  {
   "cell_type": "code",
   "execution_count": null,
   "id": "d17acf5b-d55f-4740-b6f2-0d75b51626da",
   "metadata": {},
   "outputs": [],
   "source": []
  }
 ],
 "metadata": {
  "kernelspec": {
   "display_name": "Python 3 (ipykernel)",
   "language": "python",
   "name": "python3"
  },
  "language_info": {
   "codemirror_mode": {
    "name": "ipython",
    "version": 3
   },
   "file_extension": ".py",
   "mimetype": "text/x-python",
   "name": "python",
   "nbconvert_exporter": "python",
   "pygments_lexer": "ipython3",
   "version": "3.12.2"
  }
 },
 "nbformat": 4,
 "nbformat_minor": 5
}
